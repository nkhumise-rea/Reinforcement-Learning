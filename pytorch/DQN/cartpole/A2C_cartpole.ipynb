{
 "cells": [
  {
   "cell_type": "code",
   "execution_count": 1,
   "metadata": {},
   "outputs": [],
   "source": [
    "import gym\n",
    "import random\n",
    "import numpy as np\n",
    "from collections import namedtuple, deque\n",
    "import matplotlib.pyplot as plt\n",
    "import time\n",
    "\n",
    "#pytorch\n",
    "import torch\n",
    "import torch.nn as nn\n",
    "import torch.optim as optim\n",
    "import torch.nn.functional as F\n",
    "\n",
    "device = torch.device(\"cuda\" if torch.cuda.is_available() else \"cpu\")\n",
    "\n",
    "##original reference code from: \n",
    "#https://github.com/g6ling/Reinforcement-Learning-Pytorch-Cartpole/tree/ecb7b622cfefe825ac95388cceb6752413d90a2a/PG/2-Actor-Critic"
   ]
  },
  {
   "cell_type": "code",
   "execution_count": 2,
   "metadata": {},
   "outputs": [],
   "source": [
    "env = gym.make('CartPole-v1') #cartpole\n",
    "start_time = time.time()"
   ]
  },
  {
   "cell_type": "code",
   "execution_count": 3,
   "metadata": {},
   "outputs": [],
   "source": [
    "##Model (actor & critic sharing parameters)\n",
    "class Actor(nn.Module):\n",
    "    def __init__(self, num_inputs, num_hidden, num_outputs):\n",
    "        super(Actor, self).__init__()\n",
    "        self.net = nn.Sequential(\n",
    "            nn.Linear(num_inputs, num_hidden),\n",
    "            nn.ReLU(),\n",
    "            #nn.Linear(num_hidden, num_outputs) \n",
    "        )\n",
    "        \n",
    "        self.actor_net = nn.Sequential(\n",
    "            nn.Linear(num_hidden, num_outputs), \n",
    "            nn.Softmax(dim=1),\n",
    "        )\n",
    "        \n",
    "        self.critic_net = nn.Linear(num_hidden, num_outputs)\n",
    "        \n",
    "    def forward(self, x):\n",
    "        x = self.net(x)\n",
    "        policy = self.actor_net(x)\n",
    "        qvalue = self.critic_net(x)\n",
    "        return policy, qvalue"
   ]
  },
  {
   "cell_type": "code",
   "execution_count": 4,
   "metadata": {},
   "outputs": [],
   "source": [
    "## action selection\n",
    "def get_action(state):\n",
    "    policy, _ = policy_net(state)\n",
    "    policy = policy[0].cpu().data.numpy()\n",
    "    \n",
    "    #choice(num_hidden,output_vector_size,probability_distribution)\n",
    "    action = np.random.choice(2,1,p=policy)[0] \n",
    "    action = torch.tensor(action).to(device)\n",
    "    return action.item()"
   ]
  },
  {
   "cell_type": "code",
   "execution_count": 5,
   "metadata": {},
   "outputs": [],
   "source": [
    "#Initialize policy parameters\n",
    "num_inputs = 4\n",
    "num_hidden = 128\n",
    "num_outputs = 2\n",
    "\n",
    "policy_net = Actor(num_inputs, num_hidden, num_outputs).to(device) #.to(device)\n",
    "\n",
    "gamma = 0.99\n",
    "lr_actor = 1e-4\n",
    "\n",
    "#optimizer & loss function\n",
    "optimizer = optim.Adam(policy_net.parameters(), lr=lr_actor)\n",
    "loss_fn = nn.MSELoss()"
   ]
  },
  {
   "cell_type": "code",
   "execution_count": 6,
   "metadata": {},
   "outputs": [],
   "source": [
    "# train model\n",
    "def train_model(policy_net, optimizer, transition, loss_fn):\n",
    "    \n",
    "    state, next_state, action, reward, mask = transition\n",
    "    \n",
    "    policy, qvalue = policy_net(state) #pi(s), q(s)\n",
    "    _, next_qvalue = policy_net(next_state) # q(s')\n",
    "    \n",
    "    next_action = get_action(next_state) # a'\n",
    "    \n",
    "    # target = r + Y*q(s',a')\n",
    "    target = reward + mask*gamma*next_qvalue[0][next_action]\n",
    "    #print('target: ', target)\n",
    "\n",
    "    # log_pi(s,a)\n",
    "    log_policy = torch.log(policy[0])[action]\n",
    "    #print('log_policy: ', log_policy)\n",
    "    \n",
    "    # -log_pi(s,a)*q(s,a)\n",
    "    loss_policy = -log_policy*qvalue[0][action].item()\n",
    "    \n",
    "    # delta = r + q(s',a') - q(s,a)\n",
    "    loss_value = loss_fn(qvalue[0][action],target.detach())\n",
    "    \n",
    "    # -log_pi(s,a)*q(s,a) + delta\n",
    "    loss = loss_policy + loss_value\n",
    "    #print('loss: ', loss)\n",
    "    \n",
    "    #weight updating\n",
    "    optimizer.zero_grad()\n",
    "    loss.backward()\n",
    "    optimizer.step()\n",
    "    \n",
    "    return loss.item()\n",
    "    \n"
   ]
  },
  {
   "cell_type": "code",
   "execution_count": 7,
   "metadata": {},
   "outputs": [],
   "source": [
    "steps = 0\n",
    "loss = 0\n",
    "running_score = 0\n",
    "num_episodes = 3000\n",
    "\n",
    "avg_loss,losses,cum_running_score,cum_rewards = [],[],[],[]\n",
    "raw_score = []\n",
    "\n",
    "for episode in range(num_episodes):\n",
    "    done = False\n",
    "    \n",
    "    obs = env.reset()\n",
    "    state = torch.tensor(obs).unsqueeze(0).to(device) #.to(device)\n",
    "    #print('obs: ', obs)\n",
    "    score = 0\n",
    "\n",
    "    while not done:\n",
    "        steps += 1\n",
    "        \n",
    "        action = get_action(state)\n",
    "        next_obs, reward, done, _ = env.step(action)\n",
    "        \n",
    "        next_state = torch.tensor(next_obs).unsqueeze(0).to(device) #.to(device)\n",
    "        \n",
    "        mask = 0 if done else 1\n",
    "        reward = -1/100 if done else reward/100 \n",
    "        #reward = -1 if done else reward\n",
    "        \n",
    "        transition = [state, next_state, action, reward, mask]\n",
    "        \n",
    "        loss = train_model(policy_net, optimizer, transition, loss_fn)\n",
    "        losses.append(loss)\n",
    "        \n",
    "        score += reward\n",
    "        #print(score)\n",
    "        state = next_state\n",
    "        \n",
    "    if losses: #execute if not empty\n",
    "        avg_loss.append( np.mean(losses) )\n",
    "        \n",
    "    raw_score.append(score)     \n",
    "    score = score if score == 500.0 else 100*score #100*score #+ 1/100\n",
    "    \n",
    "    running_score = 0.99*running_score + 0.01*score\n",
    "    cum_running_score.append(running_score)\n",
    "    cum_rewards.append(score)"
   ]
  },
  {
   "cell_type": "code",
   "execution_count": 8,
   "metadata": {},
   "outputs": [
    {
     "data": {
      "image/png": "[encoded data removed]",
      "text/plain": [
       "<Figure size 1080x576 with 3 Axes>"
      ]
     },
     "metadata": {
      "needs_background": "light"
     },
     "output_type": "display_data"
    }
   ],
   "source": [
    "plt.figure(figsize=[15,8])\n",
    "plt.subplot(3,2,1)\n",
    "plt.plot(cum_rewards)\n",
    "plt.ylabel('rewards')\n",
    "#plt.xlabel('episodes')\n",
    "\n",
    "plt.subplot(3,2,2)\n",
    "plt.plot(cum_running_score)\n",
    "plt.ylabel('rolling_reward')\n",
    "plt.xlabel('episodes')\n",
    "\n",
    "plt.subplot(3,2,3)\n",
    "plt.plot(avg_loss) \n",
    "plt.ylabel('avg_losses')\n",
    "plt.xlabel('episodes')\n",
    "\n",
    "plt.show()"
   ]
  },
  {
   "cell_type": "code",
   "execution_count": 15,
   "metadata": {},
   "outputs": [
    {
     "name": "stdout",
     "output_type": "stream",
     "text": [
      "1.19 hrs\n"
     ]
    }
   ],
   "source": [
    "end_time = time.time()\n",
    "duration = end_time - start_time\n",
    "if duration > 3600: \n",
    "    print('{:.2f} hrs'.format(duration/3600))\n",
    "else:\n",
    "    print('{:.2f} min'.format(duration/60))"
   ]
  }
 ],
 "metadata": {
  "kernelspec": {
   "display_name": "Python 3",
   "language": "python",
   "name": "python3"
  },
  "language_info": {
   "codemirror_mode": {
    "name": "ipython",
    "version": 3
   },
   "file_extension": ".py",
   "mimetype": "text/x-python",
   "name": "python",
   "nbconvert_exporter": "python",
   "pygments_lexer": "ipython3",
   "version": "3.8.3"
  }
 },
 "nbformat": 4,
 "nbformat_minor": 4
}
