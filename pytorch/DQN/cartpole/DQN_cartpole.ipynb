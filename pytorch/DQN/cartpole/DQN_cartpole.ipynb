{
 "cells": [
  {
   "cell_type": "code",
   "execution_count": 1,
   "metadata": {},
   "outputs": [],
   "source": [
    "import gym\n",
    "import random\n",
    "import numpy as np\n",
    "from collections import namedtuple, deque\n",
    "import matplotlib.pyplot as plt\n",
    "import time\n",
    "\n",
    "#pytorch\n",
    "import torch\n",
    "import torch.nn as nn\n",
    "import torch.optim as optim\n",
    "import torch.nn.functional as F"
   ]
  },
  {
   "cell_type": "code",
   "execution_count": 2,
   "metadata": {},
   "outputs": [],
   "source": [
    "env = gym.make('CartPole-v1')\n",
    "start_time = time.time()"
   ]
  },
  {
   "cell_type": "code",
   "execution_count": 3,
   "metadata": {},
   "outputs": [],
   "source": [
    "## E-greedy policy\n",
    "def select_action(epsilon, state, net):\n",
    "    #\n",
    "    if np.random.random() < epsilon:\n",
    "        ran_action = env.action_space.sample()\n",
    "        return ran_action\n",
    "    else:\n",
    "        _ , max_action = net(state).max(-1)\n",
    "        return max_action.item()"
   ]
  },
  {
   "cell_type": "code",
   "execution_count": 4,
   "metadata": {},
   "outputs": [],
   "source": [
    "## Target update\n",
    "def update_target_model(policy_net, target_net):\n",
    "    target_net.load_state_dict(policy_net.state_dict())\n",
    "    target_net.eval()\n",
    "    \n",
    "def smooth_update_target_model(policy_net, target_net, update_target):\n",
    "    rho = 1 - (1/update_target) #decay rate \n",
    "    for p_tgt, p in zip(target_net.parameters(),policy_net.parameters()):\n",
    "        p_tgt.data.mul_(1.0 - rho)\n",
    "        p_tgt.data.add_(rho*p.data) "
   ]
  },
  {
   "cell_type": "code",
   "execution_count": 5,
   "metadata": {},
   "outputs": [],
   "source": [
    "## Memory Replay\n",
    "Transition = namedtuple('Transition', \n",
    "                        ('state','next_state','action','reward','mask'))\n",
    "\n",
    "class Memory(object):\n",
    "    def __init__(self, capacity):\n",
    "        self.memory = deque(maxlen=capacity)\n",
    "        self.capacity = capacity\n",
    "        \n",
    "    def push(self, state, next_state, action, reward, mask):\n",
    "        self.memory.append(Transition(state, next_state, \n",
    "                                      action, reward, mask))\n",
    "        \n",
    "    def sample(self, batch_size):\n",
    "        transitions = random.sample(self.memory, batch_size)\n",
    "        batch = Transition(*zip(*transitions))\n",
    "        return batch\n",
    "    \n",
    "    def __len__(self):\n",
    "        return len(self.memory)"
   ]
  },
  {
   "cell_type": "code",
   "execution_count": 6,
   "metadata": {},
   "outputs": [],
   "source": [
    "## Model\n",
    "class DQN(nn.Module):\n",
    "    def __init__(self, num_inputs, num_hidden, num_outputs):\n",
    "        super(DQN, self).__init__()\n",
    "        self.net = nn.Sequential(\n",
    "            nn.Linear(num_inputs, num_hidden),\n",
    "            nn.ReLU(),\n",
    "            nn.Linear(num_hidden, num_outputs)\n",
    "            )\n",
    "    def forward(self, x):\n",
    "        return self.net(x)"
   ]
  },
  {
   "cell_type": "code",
   "execution_count": 7,
   "metadata": {},
   "outputs": [],
   "source": [
    "## Train model\n",
    "def train_model(policy_net, target_net, batch, optimizer,loss_fn, gamma):\n",
    "    states = torch.stack(batch.state)\n",
    "    next_states = torch.stack(batch.next_state)\n",
    "    actions = torch.stack(batch.action).squeeze(1).float() \n",
    "    rewards = torch.tensor(batch.reward)\n",
    "    masks = torch.tensor(batch.mask)\n",
    "    \n",
    "    qvalues = policy_net(states).squeeze(1)\n",
    "    next_qvalues = target_net(next_states).squeeze(1)\n",
    "    q_est = qvalues.mul(actions).sum(1)\n",
    "    \n",
    "    with torch.no_grad():\n",
    "        target = rewards + masks*gamma*next_qvalues.max(1)[0]\n",
    "        \n",
    "    loss = loss_fn(q_est, target)\n",
    "    optimizer.zero_grad()\n",
    "    loss.backward()\n",
    "    optimizer.step()\n",
    "    \n",
    "    return loss.item()\n",
    "    "
   ]
  },
  {
   "cell_type": "code",
   "execution_count": 8,
   "metadata": {},
   "outputs": [],
   "source": [
    "## Configurations\n",
    "#hyperameters\n",
    "batch_size = 64 \n",
    "update_target = 200 \n",
    "replay_memory_capacity = 1000000 \n",
    "memory = Memory(replay_memory_capacity)\n",
    "initial_exploration = 2000 \n",
    "gamma = 0.995\n",
    "lr = 1.0e-3 \n",
    "epsilon = 1.0\n",
    "num_episodes =  2*500\n",
    "steps = 0\n",
    "print_every = 50\n",
    "\n",
    "#model \n",
    "num_inputs = 4\n",
    "num_hidden = 256  \n",
    "num_outputs = 2\n",
    "\n",
    "#declare model\n",
    "policy_net = DQN(num_inputs, num_hidden, num_outputs) \n",
    "target_net = DQN(num_inputs, num_hidden, num_outputs) \n",
    "update_target_model(policy_net, target_net) #copy weights\n",
    "\n",
    "#optimizer & loss function\n",
    "optimizer = optim.Adam(policy_net.parameters(), lr=lr)\n",
    "loss_fn = nn.MSELoss()"
   ]
  },
  {
   "cell_type": "code",
   "execution_count": 9,
   "metadata": {},
   "outputs": [
    {
     "name": "stdout",
     "output_type": "stream",
     "text": [
      "Episode: 0 | Avg_reward: 31.0\n",
      "Episode: 50 | Avg_reward: 24.0\n",
      "Episode: 100 | Avg_reward: 21.2\n",
      "Episode: 150 | Avg_reward: 98.1\n",
      "Episode: 200 | Avg_reward: 382.1\n",
      "Episode: 250 | Avg_reward: 352.4\n",
      "Episode: 300 | Avg_reward: 326.3\n",
      "Episode: 350 | Avg_reward: 316.4\n",
      "Episode: 400 | Avg_reward: 401.9\n",
      "Episode: 450 | Avg_reward: 330.6\n",
      "Episode: 500 | Avg_reward: 363.1\n",
      "Episode: 550 | Avg_reward: 404.0\n",
      "Episode: 600 | Avg_reward: 406.9\n",
      "Episode: 650 | Avg_reward: 374.5\n",
      "Episode: 700 | Avg_reward: 338.4\n",
      "Episode: 750 | Avg_reward: 405.2\n",
      "Episode: 800 | Avg_reward: 370.0\n",
      "Episode: 850 | Avg_reward: 384.2\n",
      "Episode: 900 | Avg_reward: 350.9\n",
      "Episode: 950 | Avg_reward: 409.4\n"
     ]
    }
   ],
   "source": [
    "## Training\n",
    "#hyperameters\n",
    "\n",
    "\n",
    "avg_loss,losses = [],[]\n",
    "cum_rewards = []\n",
    "cum_running_score = []\n",
    "epsilon_cum = []\n",
    "\n",
    "for episode in range(num_episodes):\n",
    "    done = False\n",
    "    \n",
    "    score = 0\n",
    "    obs = env.reset()\n",
    "    state = torch.tensor(obs).unsqueeze(0)\n",
    "    \n",
    "    while not done:\n",
    "        steps += 1\n",
    "        action = select_action(epsilon, state, policy_net)\n",
    "        next_obs, reward, done, _ = env.step(action)\n",
    "        next_state = torch.tensor(next_obs).unsqueeze(0)\n",
    "        \n",
    "        mask = 0 if done else 1\n",
    "        reward = -reward if done else reward\n",
    "        score += reward\n",
    "        \n",
    "        action_one_hot = np.zeros(2)\n",
    "        action_one_hot[action] = 1\n",
    "        action_one_hot = torch.tensor(action_one_hot).unsqueeze(0)\n",
    "        \n",
    "        memory.push(state, next_state, action_one_hot, reward, mask)\n",
    "        state = next_state\n",
    "        \n",
    "        if steps > initial_exploration:\n",
    "            epsilon = max(epsilon*0.9995, 0.01)\n",
    "            batch = memory.sample(batch_size)\n",
    "            loss = train_model(policy_net, target_net, \n",
    "                               batch, optimizer, loss_fn, gamma)\n",
    "            losses.append(loss)\n",
    "            \n",
    "        #smooth_tgt_update\n",
    "        smooth_update_target_model(policy_net, \n",
    "                                   target_net, update_target)\n",
    "                    \n",
    "    if losses: #execute if not empty\n",
    "        avg_loss.append( np.mean(losses) )\n",
    "    \n",
    "    epsilon_cum.append(epsilon)\n",
    "    \n",
    "    score = score #if score == 500.0 else score #+ 1\n",
    "    cum_rewards.append(score)\n",
    "    avg_reward = np.mean(cum_rewards[-10:])\n",
    "    cum_running_score.append(avg_reward)\n",
    "    \n",
    "    if episode % print_every == 0:\n",
    "        print(\"Episode: {} | Avg_reward: {}\".format(episode,avg_reward))"
   ]
  },
  {
   "cell_type": "code",
   "execution_count": 10,
   "metadata": {
    "scrolled": false
   },
   "outputs": [
    {
     "data": {
      "image/png": "[encoded data removed]",
      "text/plain": [
       "<Figure size 648x360 with 4 Axes>"
      ]
     },
     "metadata": {
      "needs_background": "light"
     },
     "output_type": "display_data"
    }
   ],
   "source": [
    "plt.figure(figsize=[9,5])\n",
    "plt.subplot(3,2,1)\n",
    "plt.plot(cum_rewards)\n",
    "plt.ylabel('rewards')\n",
    "#plt.xlabel('episodes')\n",
    "\n",
    "plt.subplot(3,2,2)\n",
    "#plt.plot(cum_rewards_b)\n",
    "plt.plot(cum_running_score)\n",
    "plt.ylabel('running_score')\n",
    "#plt.xlabel('episodes')\n",
    "\n",
    "plt.subplot(3,2,3)\n",
    "plt.plot(epsilon_cum) \n",
    "plt.ylabel('epsilon')\n",
    "plt.xlabel('episodes')\n",
    "\n",
    "plt.subplot(3,2,4)\n",
    "plt.plot(avg_loss)\n",
    "plt.ylabel('losses')\n",
    "plt.xlabel('episodes')\n",
    "\n",
    "plt.show()"
   ]
  },
  {
   "cell_type": "code",
   "execution_count": 11,
   "metadata": {},
   "outputs": [
    {
     "name": "stdout",
     "output_type": "stream",
     "text": [
      "execution time:  562.1226217746735\n"
     ]
    }
   ],
   "source": [
    "end_time = time.time()\n",
    "print('execution time: ', end_time - start_time)"
   ]
  },
  {
   "cell_type": "code",
   "execution_count": 13,
   "metadata": {},
   "outputs": [
    {
     "name": "stdout",
     "output_type": "stream",
     "text": [
      "9.37 min\n"
     ]
    }
   ],
   "source": [
    "duration = end_time - start_time\n",
    "if duration > 3600: \n",
    "    print('{:.2f} hrs'.format(duration/3600))\n",
    "else:\n",
    "    print('{:.2f} min'.format(duration/60))"
   ]
  },
  {
   "cell_type": "code",
   "execution_count": null,
   "metadata": {},
   "outputs": [],
   "source": []
  }
 ],
 "metadata": {
  "kernelspec": {
   "display_name": "Python 3",
   "language": "python",
   "name": "python3"
  },
  "language_info": {
   "codemirror_mode": {
    "name": "ipython",
    "version": 3
   },
   "file_extension": ".py",
   "mimetype": "text/x-python",
   "name": "python",
   "nbconvert_exporter": "python",
   "pygments_lexer": "ipython3",
   "version": "3.8.3"
  }
 },
 "nbformat": 4,
 "nbformat_minor": 5
}
